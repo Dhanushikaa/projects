{
 "cells": [
  {
   "cell_type": "code",
   "execution_count": 98,
   "id": "e1a7cbf7",
   "metadata": {},
   "outputs": [],
   "source": [
    "import pandas as pd\n",
    "import matplotlib.pyplot as plt\n",
    "import tensorflow as tf\n",
    "import numpy as np\n",
    "from tensorflow import keras\n",
    "from tensorflow.keras import layers\n",
    "import keras_preprocessing"
   ]
  },
  {
   "cell_type": "code",
   "execution_count": 99,
   "id": "c6169c84",
   "metadata": {},
   "outputs": [],
   "source": [
    "traindf=pd.read_csv(\"train.csv\")\n",
    "testdf=pd.read_csv(\"test.csv\")\n",
    "def append_ext(fn):\n",
    "    return str(fn)+\".png\"\n",
    "\n",
    "traindf[\"id\"]=traindf[\"id\"].apply(append_ext)\n",
    "testdf[\"id\"]=testdf[\"id\"].apply(append_ext)\n",
    "traindf[\"label\"]=traindf[\"label\"].apply(str)"
   ]
  },
  {
   "cell_type": "code",
   "execution_count": 112,
   "id": "021a8bb1",
   "metadata": {},
   "outputs": [
    {
     "name": "stdout",
     "output_type": "stream",
     "text": [
      "Found 45000 validated image filenames belonging to 10 classes.\n",
      "Found 15000 validated image filenames belonging to 10 classes.\n",
      "Found 10000 validated image filenames.\n"
     ]
    }
   ],
   "source": [
    "from keras_preprocessing.image import ImageDataGenerator\n",
    "datagen=ImageDataGenerator(rescale=1./255.,validation_split=0.25)\n",
    "\n",
    "batch_size = 50\n",
    "img_height, img_width = 28, 28  # Adjust based on your image size\n",
    "\n",
    "train_generator=datagen.flow_from_dataframe(\n",
    "dataframe=traindf,\n",
    "directory=\"train\",\n",
    "x_col=\"id\",\n",
    "y_col=\"label\",\n",
    "subset=\"training\",\n",
    "batch_size=50,\n",
    "seed=42,\n",
    "shuffle=True,\n",
    "class_mode=\"categorical\",\n",
    "target_size=(32,32))\n",
    "\n",
    "valid_generator=datagen.flow_from_dataframe(\n",
    "dataframe=traindf,\n",
    "directory=\"train\",\n",
    "x_col=\"id\",\n",
    "y_col=\"label\",\n",
    "subset=\"validation\",\n",
    "batch_size=50,\n",
    "seed=42,\n",
    "shuffle=True,\n",
    "class_mode=\"categorical\",\n",
    "target_size=(32,32))\n",
    "\n",
    "test_datagen=ImageDataGenerator(rescale=1./255.)\n",
    "test_generator=test_datagen.flow_from_dataframe(\n",
    "dataframe=testdf,\n",
    "directory=\"test\",\n",
    "x_col=\"id\",\n",
    "y_col=None,\n",
    "batch_size=50,\n",
    "seed=42,\n",
    "shuffle=False,\n",
    "class_mode=None,\n",
    "target_size=(32,32))\n"
   ]
  },
  {
   "cell_type": "code",
   "execution_count": null,
   "id": "ad6cbb42",
   "metadata": {},
   "outputs": [],
   "source": []
  },
  {
   "cell_type": "code",
   "execution_count": 113,
   "id": "f9b7acb2",
   "metadata": {},
   "outputs": [],
   "source": [
    "model = keras.Sequential([\n",
    "    layers.Conv2D(32, (3, 3), activation='relu', input_shape=(32, 32, 3)),\n",
    "    layers.MaxPooling2D((2, 2)),\n",
    "    layers.Dropout(0.25),\n",
    "    layers.Conv2D(64, (3, 3), activation='relu'),\n",
    "    layers.MaxPooling2D((2, 2)),\n",
    "    layers.Dropout(0.25),\n",
    "    #layers.Conv2D(128, (3, 3), activation='relu'),\n",
    "    #layers.MaxPooling2D((2, 2)),\n",
    "    layers.Flatten(),\n",
    "    layers.Dense(128, activation='relu'),\n",
    "    layers.Dropout(0.25),\n",
    "    layers.Dense(10, activation='softmax')\n",
    "])\n"
   ]
  },
  {
   "cell_type": "code",
   "execution_count": 114,
   "id": "fc0ec2a9",
   "metadata": {},
   "outputs": [],
   "source": [
    "opt = keras.optimizers.Adam(learning_rate=0.001)\n",
    "#opt = keras.optimizers.RMSprop(learning_rate=0.001)\n",
    "model.compile(loss='categorical_crossentropy', optimizer=opt, metrics=['accuracy'])\n",
    "#model.compile(optimizer=rmsprop(lr=0.0001, decay=1e-6),loss=\"categorical_crossentropy\",metrics=[\"accuracy\"])"
   ]
  },
  {
   "cell_type": "code",
   "execution_count": 115,
   "id": "142b63a9",
   "metadata": {},
   "outputs": [
    {
     "name": "stdout",
     "output_type": "stream",
     "text": [
      "Epoch 1/10\n",
      "200/200 [==============================] - 39s 188ms/step - loss: 0.8356 - accuracy: 0.6959 - val_loss: 0.5328 - val_accuracy: 0.8013\n",
      "Epoch 2/10\n",
      "200/200 [==============================] - 31s 154ms/step - loss: 0.5508 - accuracy: 0.7989 - val_loss: 0.4394 - val_accuracy: 0.8387\n",
      "Epoch 3/10\n",
      "200/200 [==============================] - 27s 135ms/step - loss: 0.4831 - accuracy: 0.8192 - val_loss: 0.4005 - val_accuracy: 0.8579\n",
      "Epoch 4/10\n",
      "200/200 [==============================] - 25s 126ms/step - loss: 0.4331 - accuracy: 0.8431 - val_loss: 0.3692 - val_accuracy: 0.8659\n",
      "Epoch 5/10\n",
      "200/200 [==============================] - 26s 129ms/step - loss: 0.4082 - accuracy: 0.8524 - val_loss: 0.3610 - val_accuracy: 0.8660\n",
      "Epoch 6/10\n",
      "200/200 [==============================] - 24s 122ms/step - loss: 0.3851 - accuracy: 0.8545 - val_loss: 0.3383 - val_accuracy: 0.8740\n",
      "Epoch 7/10\n",
      "200/200 [==============================] - 25s 126ms/step - loss: 0.3669 - accuracy: 0.8642 - val_loss: 0.3240 - val_accuracy: 0.8789\n",
      "Epoch 8/10\n",
      "200/200 [==============================] - 25s 123ms/step - loss: 0.3552 - accuracy: 0.8673 - val_loss: 0.3260 - val_accuracy: 0.8815\n",
      "Epoch 9/10\n",
      "200/200 [==============================] - 24s 120ms/step - loss: 0.3525 - accuracy: 0.8715 - val_loss: 0.3095 - val_accuracy: 0.8876\n",
      "Epoch 10/10\n",
      "200/200 [==============================] - 24s 121ms/step - loss: 0.3400 - accuracy: 0.8739 - val_loss: 0.3090 - val_accuracy: 0.8818\n"
     ]
    },
    {
     "data": {
      "text/plain": [
       "<keras.src.callbacks.History at 0x191b75175e0>"
      ]
     },
     "execution_count": 115,
     "metadata": {},
     "output_type": "execute_result"
    }
   ],
   "source": [
    "model.fit(train_generator,\n",
    "          steps_per_epoch=200,\n",
    "          epochs=10,\n",
    "          validation_data=valid_generator,\n",
    "          validation_steps=200,\n",
    ")"
   ]
  },
  {
   "cell_type": "code",
   "execution_count": 116,
   "id": "09fce2e3",
   "metadata": {},
   "outputs": [
    {
     "name": "stdout",
     "output_type": "stream",
     "text": [
      "200/200 [==============================] - 17s 83ms/step - loss: 0.3040 - accuracy: 0.8847\n"
     ]
    },
    {
     "data": {
      "text/plain": [
       "[0.30395662784576416, 0.8847000002861023]"
      ]
     },
     "execution_count": 116,
     "metadata": {},
     "output_type": "execute_result"
    }
   ],
   "source": [
    "model.evaluate(valid_generator, steps=200)"
   ]
  },
  {
   "cell_type": "code",
   "execution_count": 117,
   "id": "8bcd28e6",
   "metadata": {},
   "outputs": [
    {
     "name": "stdout",
     "output_type": "stream",
     "text": [
      "200/200 [==============================] - 17s 84ms/step\n"
     ]
    }
   ],
   "source": [
    "test_generator.reset()\n",
    "pred=model.predict(test_generator,\n",
    "steps=200,\n",
    "verbose=1)"
   ]
  },
  {
   "cell_type": "code",
   "execution_count": null,
   "id": "ec8544f3",
   "metadata": {},
   "outputs": [],
   "source": []
  },
  {
   "cell_type": "code",
   "execution_count": 119,
   "id": "00e856cd",
   "metadata": {},
   "outputs": [
    {
     "name": "stdout",
     "output_type": "stream",
     "text": [
      "(10000, 10)\n"
     ]
    }
   ],
   "source": [
    "predicted_class_indices=np.argmax(pred,axis=1)\n",
    "labels = (train_generator.class_indices)\n",
    "labels = dict((v,k) for k,v in labels.items())\n",
    "predictions = [labels[k] for k in predicted_class_indices]\n",
    "filenames=test_generator.filenames\n",
    "print(pred.shape)\n",
    "results=pd.DataFrame({\"id\":filenames,\n",
    "                      \"label\":predictions})\n",
    "results.to_csv(\"results.csv\",index=False)"
   ]
  },
  {
   "cell_type": "code",
   "execution_count": null,
   "id": "275b3126",
   "metadata": {},
   "outputs": [],
   "source": []
  }
 ],
 "metadata": {
  "kernelspec": {
   "display_name": "Python 3 (ipykernel)",
   "language": "python",
   "name": "python3"
  },
  "language_info": {
   "codemirror_mode": {
    "name": "ipython",
    "version": 3
   },
   "file_extension": ".py",
   "mimetype": "text/x-python",
   "name": "python",
   "nbconvert_exporter": "python",
   "pygments_lexer": "ipython3",
   "version": "3.9.13"
  }
 },
 "nbformat": 4,
 "nbformat_minor": 5
}
